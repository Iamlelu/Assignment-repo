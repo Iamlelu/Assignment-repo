{
 "cells": [
  {
   "cell_type": "markdown",
   "id": "40093d8a-7c37-43cf-9d48-7db743282bf9",
   "metadata": {},
   "source": [
    "# Data Science Tools and Ecosystem"
   ]
  },
  {
   "cell_type": "markdown",
   "id": "66e3cbc8-459f-422c-919f-0a6e46a0f871",
   "metadata": {},
   "source": [
    "In this notebook, Data Science Tools and Ecosystem are summarized"
   ]
  },
  {
   "cell_type": "markdown",
   "id": "d222bf98-5383-4e7b-bb84-8b752efdf78a",
   "metadata": {},
   "source": [
    "**Objectives**\n",
    "+ popular languages used in data science\n",
    "+ commonly used libraries used in data science\n",
    "+ using arithmatic expressions in jupyter"
   ]
  },
  {
   "cell_type": "markdown",
   "id": "1024eb69-f3d3-4d07-8453-18dc83b707be",
   "metadata": {},
   "source": [
    "Some of the popular languages that Data Scientists use are:\n",
    "1. python\n",
    "2. r\n",
    "3. sql\n",
    "4. java"
   ]
  },
  {
   "cell_type": "markdown",
   "id": "b474d172-d238-4460-b449-af81981b4441",
   "metadata": {},
   "source": [
    "Some of the commonly used libraries used by Data Scientists include:\n",
    "1. pandas\n",
    "2. matplotlib\n",
    "3. ggplot\n",
    "4. leaflet"
   ]
  },
  {
   "cell_type": "markdown",
   "id": "e1240b5a-07c6-4204-a4c4-dd67e3a98e72",
   "metadata": {},
   "source": [
    "| Data Science Tools |\n",
    "| --- |\n",
    "| jupyter |\n",
    "| rstudio |\n",
    "| anaconda|"
   ]
  },
  {
   "cell_type": "markdown",
   "id": "c4081757-0559-4d9b-bfbc-cb7dd69cc963",
   "metadata": {},
   "source": [
    "### Below are a few examples of evaluating arithmetic expressions in Python"
   ]
  },
  {
   "cell_type": "code",
   "execution_count": 54,
   "id": "ef801c33-4f9b-4733-a4dd-a3d6b47e9938",
   "metadata": {},
   "outputs": [
    {
     "data": {
      "text/plain": [
       "17"
      ]
     },
     "execution_count": 54,
     "metadata": {},
     "output_type": "execute_result"
    }
   ],
   "source": [
    "#This a simple arithmetic expression to mutiply then add integers\n",
    "(3*4)+5"
   ]
  },
  {
   "cell_type": "code",
   "execution_count": 56,
   "id": "8f766d2d-3ac6-44a1-aeff-3985cdccf77f",
   "metadata": {},
   "outputs": [
    {
     "name": "stdout",
     "output_type": "stream",
     "text": [
      "3.3333333333333335\n"
     ]
    }
   ],
   "source": [
    "#This will convert 200 minutes to hours by diving by 60\n",
    "print(200/60)"
   ]
  },
  {
   "cell_type": "markdown",
   "id": "4f67f358-7ed9-4350-b76e-0ef4ab7041eb",
   "metadata": {},
   "source": [
    "## Author\n",
    "sri sadan "
   ]
  },
  {
   "cell_type": "code",
   "execution_count": null,
   "id": "4dacd7a9-2de0-4031-ba30-a6e05ea67072",
   "metadata": {},
   "outputs": [],
   "source": []
  }
 ],
 "metadata": {
  "kernelspec": {
   "display_name": "Python 3 (ipykernel)",
   "language": "python",
   "name": "python3"
  },
  "language_info": {
   "codemirror_mode": {
    "name": "ipython",
    "version": 3
   },
   "file_extension": ".py",
   "mimetype": "text/x-python",
   "name": "python",
   "nbconvert_exporter": "python",
   "pygments_lexer": "ipython3",
   "version": "3.12.7"
  }
 },
 "nbformat": 4,
 "nbformat_minor": 5
}
